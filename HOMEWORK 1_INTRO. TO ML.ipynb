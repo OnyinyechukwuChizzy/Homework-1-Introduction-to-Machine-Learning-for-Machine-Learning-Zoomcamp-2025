{
 "cells": [
  {
   "cell_type": "markdown",
   "id": "ad6838d2-93d3-4005-b350-444a9f47129e",
   "metadata": {},
   "source": [
    "## Homework 1: Introduction to Machine Learning for Machine Learning Zoomcamp 2025"
   ]
  },
  {
   "cell_type": "markdown",
   "id": "cf01a51c-17c8-400e-af75-b04da9b9b020",
   "metadata": {},
   "source": [
    "### IMPORT LIBRARY"
   ]
  },
  {
   "cell_type": "code",
   "execution_count": 1,
   "id": "17d4d221-df67-402b-96b4-664fcd3b5387",
   "metadata": {},
   "outputs": [
    {
     "name": "stdout",
     "output_type": "stream",
     "text": [
      "All libraries installed successfully\n"
     ]
    }
   ],
   "source": [
    "import numpy as np\n",
    "import pandas as pd\n",
    "import matplotlib.pyplot as plt\n",
    "import seaborn as sns\n",
    "\n",
    "print(\"All libraries installed successfully\")"
   ]
  },
  {
   "cell_type": "markdown",
   "id": "1d5abe02-684c-4f69-b260-bc0f8f94a151",
   "metadata": {},
   "source": [
    "### What version of Pandas did you install?"
   ]
  },
  {
   "cell_type": "code",
   "execution_count": 2,
   "id": "242a7362-ed20-4f29-860e-20be5cba45df",
   "metadata": {},
   "outputs": [
    {
     "data": {
      "text/plain": [
       "'2.2.2'"
      ]
     },
     "execution_count": 2,
     "metadata": {},
     "output_type": "execute_result"
    }
   ],
   "source": [
    "# VERSION OF PANDAS\n",
    "pd.__version__"
   ]
  },
  {
   "cell_type": "markdown",
   "id": "ac13240d-6d64-4e43-97fc-83df19dfe314",
   "metadata": {},
   "source": [
    "### Reading .csv file"
   ]
  },
  {
   "cell_type": "code",
   "execution_count": 3,
   "id": "47c1f943-373b-429d-9c84-b09e1fb0e08e",
   "metadata": {},
   "outputs": [
    {
     "data": {
      "text/html": [
       "<div>\n",
       "<style scoped>\n",
       "    .dataframe tbody tr th:only-of-type {\n",
       "        vertical-align: middle;\n",
       "    }\n",
       "\n",
       "    .dataframe tbody tr th {\n",
       "        vertical-align: top;\n",
       "    }\n",
       "\n",
       "    .dataframe thead th {\n",
       "        text-align: right;\n",
       "    }\n",
       "</style>\n",
       "<table border=\"1\" class=\"dataframe\">\n",
       "  <thead>\n",
       "    <tr style=\"text-align: right;\">\n",
       "      <th></th>\n",
       "      <th>engine_displacement</th>\n",
       "      <th>num_cylinders</th>\n",
       "      <th>horsepower</th>\n",
       "      <th>vehicle_weight</th>\n",
       "      <th>acceleration</th>\n",
       "      <th>model_year</th>\n",
       "      <th>origin</th>\n",
       "      <th>fuel_type</th>\n",
       "      <th>drivetrain</th>\n",
       "      <th>num_doors</th>\n",
       "      <th>fuel_efficiency_mpg</th>\n",
       "    </tr>\n",
       "  </thead>\n",
       "  <tbody>\n",
       "    <tr>\n",
       "      <th>0</th>\n",
       "      <td>170</td>\n",
       "      <td>3.0</td>\n",
       "      <td>159.0</td>\n",
       "      <td>3413.433759</td>\n",
       "      <td>17.7</td>\n",
       "      <td>2003</td>\n",
       "      <td>Europe</td>\n",
       "      <td>Gasoline</td>\n",
       "      <td>All-wheel drive</td>\n",
       "      <td>0.0</td>\n",
       "      <td>13.231729</td>\n",
       "    </tr>\n",
       "    <tr>\n",
       "      <th>1</th>\n",
       "      <td>130</td>\n",
       "      <td>5.0</td>\n",
       "      <td>97.0</td>\n",
       "      <td>3149.664934</td>\n",
       "      <td>17.8</td>\n",
       "      <td>2007</td>\n",
       "      <td>USA</td>\n",
       "      <td>Gasoline</td>\n",
       "      <td>Front-wheel drive</td>\n",
       "      <td>0.0</td>\n",
       "      <td>13.688217</td>\n",
       "    </tr>\n",
       "    <tr>\n",
       "      <th>2</th>\n",
       "      <td>170</td>\n",
       "      <td>NaN</td>\n",
       "      <td>78.0</td>\n",
       "      <td>3079.038997</td>\n",
       "      <td>15.1</td>\n",
       "      <td>2018</td>\n",
       "      <td>Europe</td>\n",
       "      <td>Gasoline</td>\n",
       "      <td>Front-wheel drive</td>\n",
       "      <td>0.0</td>\n",
       "      <td>14.246341</td>\n",
       "    </tr>\n",
       "    <tr>\n",
       "      <th>3</th>\n",
       "      <td>220</td>\n",
       "      <td>4.0</td>\n",
       "      <td>NaN</td>\n",
       "      <td>2542.392402</td>\n",
       "      <td>20.2</td>\n",
       "      <td>2009</td>\n",
       "      <td>USA</td>\n",
       "      <td>Diesel</td>\n",
       "      <td>All-wheel drive</td>\n",
       "      <td>2.0</td>\n",
       "      <td>16.912736</td>\n",
       "    </tr>\n",
       "    <tr>\n",
       "      <th>4</th>\n",
       "      <td>210</td>\n",
       "      <td>1.0</td>\n",
       "      <td>140.0</td>\n",
       "      <td>3460.870990</td>\n",
       "      <td>14.4</td>\n",
       "      <td>2009</td>\n",
       "      <td>Europe</td>\n",
       "      <td>Gasoline</td>\n",
       "      <td>All-wheel drive</td>\n",
       "      <td>2.0</td>\n",
       "      <td>12.488369</td>\n",
       "    </tr>\n",
       "  </tbody>\n",
       "</table>\n",
       "</div>"
      ],
      "text/plain": [
       "   engine_displacement  num_cylinders  horsepower  vehicle_weight  \\\n",
       "0                  170            3.0       159.0     3413.433759   \n",
       "1                  130            5.0        97.0     3149.664934   \n",
       "2                  170            NaN        78.0     3079.038997   \n",
       "3                  220            4.0         NaN     2542.392402   \n",
       "4                  210            1.0       140.0     3460.870990   \n",
       "\n",
       "   acceleration  model_year  origin fuel_type         drivetrain  num_doors  \\\n",
       "0          17.7        2003  Europe  Gasoline    All-wheel drive        0.0   \n",
       "1          17.8        2007     USA  Gasoline  Front-wheel drive        0.0   \n",
       "2          15.1        2018  Europe  Gasoline  Front-wheel drive        0.0   \n",
       "3          20.2        2009     USA    Diesel    All-wheel drive        2.0   \n",
       "4          14.4        2009  Europe  Gasoline    All-wheel drive        2.0   \n",
       "\n",
       "   fuel_efficiency_mpg  \n",
       "0            13.231729  \n",
       "1            13.688217  \n",
       "2            14.246341  \n",
       "3            16.912736  \n",
       "4            12.488369  "
      ]
     },
     "execution_count": 3,
     "metadata": {},
     "output_type": "execute_result"
    }
   ],
   "source": [
    "# Read csv file\n",
    "# show first 5 files \n",
    "CAR_FUEL_EFF = pd.read_csv('car_fuel_efficiency.csv')\n",
    "CAR_FUEL_EFF.head()"
   ]
  },
  {
   "cell_type": "markdown",
   "id": "72f97c2e-9c3d-4a36-81b6-1e398c2fbf06",
   "metadata": {},
   "source": [
    "### Q2) How many records are in the dataset?"
   ]
  },
  {
   "cell_type": "code",
   "execution_count": 4,
   "id": "c68f8a02-1076-46de-9fb9-b0dbb162e7bb",
   "metadata": {},
   "outputs": [
    {
     "name": "stdout",
     "output_type": "stream",
     "text": [
      "There are 9704 rows and 11 columns in the dataset\n"
     ]
    }
   ],
   "source": [
    "CAR_FUEL_EFF.shape\n",
    "print('There are {} rows and {} columns in the dataset'.format(CAR_FUEL_EFF.shape[0],CAR_FUEL_EFF.shape[1]))"
   ]
  },
  {
   "cell_type": "markdown",
   "id": "b382f694-ea53-45be-b0ad-956b99b1f7c6",
   "metadata": {},
   "source": [
    "### Q3) How many fuel types are presented in the dataset?"
   ]
  },
  {
   "cell_type": "code",
   "execution_count": 5,
   "id": "1997b8d9-0b82-458d-b8df-de988502b4b2",
   "metadata": {},
   "outputs": [
    {
     "name": "stdout",
     "output_type": "stream",
     "text": [
      "There are 2 types of fuel.\n",
      "\n",
      "Fuel types: ['Gasoline' 'Diesel']\n"
     ]
    }
   ],
   "source": [
    "# The number of unique fuel types\n",
    "fuel_types_num = CAR_FUEL_EFF [\"fuel_type\"].nunique()\n",
    "print(\"There are {} types of fuel.\".format(fuel_types_num))\n",
    "\n",
    "# The List of unique fuel types\n",
    "print(\"\\nFuel types:\", CAR_FUEL_EFF[\"fuel_type\"].unique())"
   ]
  },
  {
   "cell_type": "markdown",
   "id": "4255e369-3e37-4360-b84c-1345b1524028",
   "metadata": {},
   "source": [
    "### # Q4) How many columns in the dataset have missing values?"
   ]
  },
  {
   "cell_type": "code",
   "execution_count": 6,
   "id": "a60363ed-8724-451c-9e2b-81cf9c18eda8",
   "metadata": {},
   "outputs": [
    {
     "data": {
      "text/plain": [
       "engine_displacement      0\n",
       "num_cylinders          482\n",
       "horsepower             708\n",
       "vehicle_weight           0\n",
       "acceleration           930\n",
       "model_year               0\n",
       "origin                   0\n",
       "fuel_type                0\n",
       "drivetrain               0\n",
       "num_doors              502\n",
       "fuel_efficiency_mpg      0\n",
       "dtype: int64"
      ]
     },
     "execution_count": 6,
     "metadata": {},
     "output_type": "execute_result"
    }
   ],
   "source": [
    "# To check missing values\n",
    "CAR_FUEL_EFF.isnull().sum()"
   ]
  },
  {
   "cell_type": "code",
   "execution_count": 7,
   "id": "d231f13d-07c7-4ece-a56d-598048e05b46",
   "metadata": {},
   "outputs": [
    {
     "name": "stdout",
     "output_type": "stream",
     "text": [
      "4 Columns have missing values\n",
      "\n",
      "Columns with missing values:\n",
      "num_cylinders    482\n",
      "horsepower       708\n",
      "acceleration     930\n",
      "num_doors        502\n",
      "dtype: int64\n"
     ]
    }
   ],
   "source": [
    "# Show missing value counts per column\n",
    "# Count columns with missing values\n",
    "missing_columns_count = CAR_FUEL_EFF.isnull().sum().gt(0).sum()\n",
    "print(missing_columns_count ,\"Columns have missing values\")\n",
    "\n",
    "print(\"\\nColumns with missing values:\")\n",
    "print(CAR_FUEL_EFF.isnull().sum()[CAR_FUEL_EFF.isnull().sum() > 0])"
   ]
  },
  {
   "cell_type": "markdown",
   "id": "039a4e1a-8f24-4404-9bcf-cd5b2e9d9ebc",
   "metadata": {},
   "source": [
    "### Q5) What's the maximum fuel efficiency of cars from Asia?"
   ]
  },
  {
   "cell_type": "code",
   "execution_count": 8,
   "id": "db07d232-2fd4-4fa5-aa03-fcbd5bbb7dc7",
   "metadata": {},
   "outputs": [
    {
     "data": {
      "text/html": [
       "<div>\n",
       "<style scoped>\n",
       "    .dataframe tbody tr th:only-of-type {\n",
       "        vertical-align: middle;\n",
       "    }\n",
       "\n",
       "    .dataframe tbody tr th {\n",
       "        vertical-align: top;\n",
       "    }\n",
       "\n",
       "    .dataframe thead th {\n",
       "        text-align: right;\n",
       "    }\n",
       "</style>\n",
       "<table border=\"1\" class=\"dataframe\">\n",
       "  <thead>\n",
       "    <tr style=\"text-align: right;\">\n",
       "      <th></th>\n",
       "      <th>engine_displacement</th>\n",
       "      <th>num_cylinders</th>\n",
       "      <th>horsepower</th>\n",
       "      <th>vehicle_weight</th>\n",
       "      <th>acceleration</th>\n",
       "      <th>model_year</th>\n",
       "      <th>origin</th>\n",
       "      <th>fuel_type</th>\n",
       "      <th>drivetrain</th>\n",
       "      <th>num_doors</th>\n",
       "      <th>fuel_efficiency_mpg</th>\n",
       "    </tr>\n",
       "  </thead>\n",
       "  <tbody>\n",
       "    <tr>\n",
       "      <th>8</th>\n",
       "      <td>250</td>\n",
       "      <td>1.0</td>\n",
       "      <td>174.0</td>\n",
       "      <td>2714.219310</td>\n",
       "      <td>10.3</td>\n",
       "      <td>2016</td>\n",
       "      <td>Asia</td>\n",
       "      <td>Diesel</td>\n",
       "      <td>Front-wheel drive</td>\n",
       "      <td>-1.0</td>\n",
       "      <td>16.823554</td>\n",
       "    </tr>\n",
       "    <tr>\n",
       "      <th>12</th>\n",
       "      <td>320</td>\n",
       "      <td>5.0</td>\n",
       "      <td>145.0</td>\n",
       "      <td>2783.868974</td>\n",
       "      <td>15.1</td>\n",
       "      <td>2010</td>\n",
       "      <td>Asia</td>\n",
       "      <td>Diesel</td>\n",
       "      <td>All-wheel drive</td>\n",
       "      <td>1.0</td>\n",
       "      <td>16.175820</td>\n",
       "    </tr>\n",
       "    <tr>\n",
       "      <th>14</th>\n",
       "      <td>200</td>\n",
       "      <td>6.0</td>\n",
       "      <td>160.0</td>\n",
       "      <td>3582.687368</td>\n",
       "      <td>14.9</td>\n",
       "      <td>2007</td>\n",
       "      <td>Asia</td>\n",
       "      <td>Diesel</td>\n",
       "      <td>All-wheel drive</td>\n",
       "      <td>0.0</td>\n",
       "      <td>11.871091</td>\n",
       "    </tr>\n",
       "    <tr>\n",
       "      <th>20</th>\n",
       "      <td>150</td>\n",
       "      <td>3.0</td>\n",
       "      <td>197.0</td>\n",
       "      <td>2231.808142</td>\n",
       "      <td>18.7</td>\n",
       "      <td>2011</td>\n",
       "      <td>Asia</td>\n",
       "      <td>Gasoline</td>\n",
       "      <td>Front-wheel drive</td>\n",
       "      <td>1.0</td>\n",
       "      <td>18.889083</td>\n",
       "    </tr>\n",
       "    <tr>\n",
       "      <th>21</th>\n",
       "      <td>160</td>\n",
       "      <td>4.0</td>\n",
       "      <td>133.0</td>\n",
       "      <td>2659.431451</td>\n",
       "      <td>NaN</td>\n",
       "      <td>2016</td>\n",
       "      <td>Asia</td>\n",
       "      <td>Gasoline</td>\n",
       "      <td>Front-wheel drive</td>\n",
       "      <td>-1.0</td>\n",
       "      <td>16.077730</td>\n",
       "    </tr>\n",
       "  </tbody>\n",
       "</table>\n",
       "</div>"
      ],
      "text/plain": [
       "    engine_displacement  num_cylinders  horsepower  vehicle_weight  \\\n",
       "8                   250            1.0       174.0     2714.219310   \n",
       "12                  320            5.0       145.0     2783.868974   \n",
       "14                  200            6.0       160.0     3582.687368   \n",
       "20                  150            3.0       197.0     2231.808142   \n",
       "21                  160            4.0       133.0     2659.431451   \n",
       "\n",
       "    acceleration  model_year origin fuel_type         drivetrain  num_doors  \\\n",
       "8           10.3        2016   Asia    Diesel  Front-wheel drive       -1.0   \n",
       "12          15.1        2010   Asia    Diesel    All-wheel drive        1.0   \n",
       "14          14.9        2007   Asia    Diesel    All-wheel drive        0.0   \n",
       "20          18.7        2011   Asia  Gasoline  Front-wheel drive        1.0   \n",
       "21           NaN        2016   Asia  Gasoline  Front-wheel drive       -1.0   \n",
       "\n",
       "    fuel_efficiency_mpg  \n",
       "8             16.823554  \n",
       "12            16.175820  \n",
       "14            11.871091  \n",
       "20            18.889083  \n",
       "21            16.077730  "
      ]
     },
     "execution_count": 8,
     "metadata": {},
     "output_type": "execute_result"
    }
   ],
   "source": [
    "Asia_cars = CAR_FUEL_EFF.loc[CAR_FUEL_EFF[\"origin\"] == \"Asia\"]\n",
    "Asia_cars.head()"
   ]
  },
  {
   "cell_type": "code",
   "execution_count": 9,
   "id": "da9ae0ef-776f-4f26-a0f0-b0a7e7928b61",
   "metadata": {},
   "outputs": [
    {
     "name": "stdout",
     "output_type": "stream",
     "text": [
      "Maximum fuel efficiency For Asia cars: 23.759122836520497\n"
     ]
    }
   ],
   "source": [
    "# Maximum fuel efficiency of cars from Asia\n",
    "Asia_cars_maxEFF = CAR_FUEL_EFF.loc[CAR_FUEL_EFF[\"origin\"] == \"Asia\",\"fuel_efficiency_mpg\"].max()\n",
    "print(\"Maximum fuel efficiency For Asia cars:\", Asia_cars_maxEFF)"
   ]
  },
  {
   "cell_type": "markdown",
   "id": "f2fa926d-f4a2-4ce2-9196-676a14a5e870",
   "metadata": {},
   "source": [
    "### Q6) Median value of horsepower"
   ]
  },
  {
   "cell_type": "markdown",
   "id": "1d137cc8-0039-4cfb-a1aa-2eb3e174837e",
   "metadata": {},
   "source": [
    "##### Find the median value of the horsepower column in the dataset.\n",
    "##### Next, calculate the most frequent value of the same horsepower column.\n",
    "##### Use the fillna method to fill the missing values in the horsepower column with the most frequent value from the previous step.\n",
    "##### Now, calculate the median value of horsepower once again.\n",
    "##### Has it changed?\n",
    "##### a) Yes, it increased\n",
    "##### b) Yes, it decreased\n",
    "##### c) No"
   ]
  },
  {
   "cell_type": "code",
   "execution_count": 10,
   "id": "a9c35834-3754-49d6-ae7a-77ac6df8f341",
   "metadata": {},
   "outputs": [
    {
     "name": "stdout",
     "output_type": "stream",
     "text": [
      "Median horsepower: 149.0\n"
     ]
    }
   ],
   "source": [
    "# Median of horsepower column\n",
    "Horsepower_med = CAR_FUEL_EFF[\"horsepower\"].median()\n",
    "print(\"Median horsepower:\", Horsepower_med)"
   ]
  },
  {
   "cell_type": "code",
   "execution_count": 11,
   "id": "8e138f2a-88fa-42ee-a6c7-19eb0e0f2c81",
   "metadata": {},
   "outputs": [
    {
     "name": "stdout",
     "output_type": "stream",
     "text": [
      "Most frequent horsepower value: 0    152.0\n",
      "Name: horsepower, dtype: float64\n"
     ]
    }
   ],
   "source": [
    "# Most frequent value (mode) of horsepower\n",
    "Horsepower_mostFREQ = CAR_FUEL_EFF[\"horsepower\"].mode()\n",
    "print(\"Most frequent horsepower value:\", Horsepower_mostFREQ)"
   ]
  },
  {
   "cell_type": "code",
   "execution_count": 12,
   "id": "2fd78b56-9d5a-4bf1-8374-4722a6c64c0c",
   "metadata": {},
   "outputs": [
    {
     "name": "stdout",
     "output_type": "stream",
     "text": [
      "Most frequent horsepower value: 152.0\n"
     ]
    }
   ],
   "source": [
    "# Most frequent value (mode) of horsepower\n",
    "Horsepower_mostFREQ = CAR_FUEL_EFF[\"horsepower\"].mode()[0]  # [0] shows only one most frequent value\n",
    "print(\"Most frequent horsepower value:\", Horsepower_mostFREQ)"
   ]
  },
  {
   "cell_type": "code",
   "execution_count": 13,
   "id": "60115330-ac01-4f6d-8876-e58dedaf2dd9",
   "metadata": {},
   "outputs": [
    {
     "name": "stdout",
     "output_type": "stream",
     "text": [
      "Missing values in horsepower after filling: 0\n"
     ]
    }
   ],
   "source": [
    "# FILLNA_Fill missing values with the most frequent value\n",
    "CAR_FUEL_EFF[\"horsepower\"] = CAR_FUEL_EFF[\"horsepower\"].fillna(Horsepower_mostFREQ)\n",
    "\n",
    "print(\"Missing values in horsepower after filling:\", CAR_FUEL_EFF[\"horsepower\"].isnull().sum())"
   ]
  },
  {
   "cell_type": "code",
   "execution_count": 14,
   "id": "23c7eb93-6d08-4036-91da-de2f33fb58ec",
   "metadata": {},
   "outputs": [
    {
     "name": "stdout",
     "output_type": "stream",
     "text": [
      "Median horsepower: 152.0\n"
     ]
    }
   ],
   "source": [
    "# Median after filling missing values with Horsepower most frequent value\n",
    "Horsepower_med = CAR_FUEL_EFF[\"horsepower\"].median()\n",
    "print(\"Median horsepower:\", Horsepower_med)"
   ]
  },
  {
   "cell_type": "markdown",
   "id": "807513a6-2f17-4575-b344-5bd225741330",
   "metadata": {},
   "source": [
    "### Q7) Sum of weights"
   ]
  },
  {
   "cell_type": "markdown",
   "id": "816c598e-a878-4d42-ade7-0ef5f5c5acfa",
   "metadata": {},
   "source": [
    "##### Select all the cars from Asia\n",
    "##### Select only columns vehicle_weight and model_year\n",
    "##### Select the first 7 values\n",
    "##### Get the underlying NumPy array. Let's call it X.\n",
    "##### Compute matrix-matrix multiplication between the transpose of X and X. To get the transpose, use X.T. Let's call the result XTX.\n",
    "##### Invert XTX.\n",
    "##### Create an array y with values [1100, 1300, 800, 900, 1000, 1100, 1200].\n",
    "##### Multiply the inverse of XTX with the transpose of X, and then multiply the result by y. Call the result w.\n",
    "##### What's the sum of all the elements of the result?"
   ]
  },
  {
   "cell_type": "code",
   "execution_count": 15,
   "id": "ffddeea2-d8ae-46ca-81ef-37c4f7e982a0",
   "metadata": {},
   "outputs": [
    {
     "data": {
      "text/html": [
       "<div>\n",
       "<style scoped>\n",
       "    .dataframe tbody tr th:only-of-type {\n",
       "        vertical-align: middle;\n",
       "    }\n",
       "\n",
       "    .dataframe tbody tr th {\n",
       "        vertical-align: top;\n",
       "    }\n",
       "\n",
       "    .dataframe thead th {\n",
       "        text-align: right;\n",
       "    }\n",
       "</style>\n",
       "<table border=\"1\" class=\"dataframe\">\n",
       "  <thead>\n",
       "    <tr style=\"text-align: right;\">\n",
       "      <th></th>\n",
       "      <th>vehicle_weight</th>\n",
       "      <th>model_year</th>\n",
       "    </tr>\n",
       "  </thead>\n",
       "  <tbody>\n",
       "    <tr>\n",
       "      <th>8</th>\n",
       "      <td>2714.219310</td>\n",
       "      <td>2016</td>\n",
       "    </tr>\n",
       "    <tr>\n",
       "      <th>12</th>\n",
       "      <td>2783.868974</td>\n",
       "      <td>2010</td>\n",
       "    </tr>\n",
       "    <tr>\n",
       "      <th>14</th>\n",
       "      <td>3582.687368</td>\n",
       "      <td>2007</td>\n",
       "    </tr>\n",
       "    <tr>\n",
       "      <th>20</th>\n",
       "      <td>2231.808142</td>\n",
       "      <td>2011</td>\n",
       "    </tr>\n",
       "    <tr>\n",
       "      <th>21</th>\n",
       "      <td>2659.431451</td>\n",
       "      <td>2016</td>\n",
       "    </tr>\n",
       "    <tr>\n",
       "      <th>34</th>\n",
       "      <td>2844.227534</td>\n",
       "      <td>2014</td>\n",
       "    </tr>\n",
       "    <tr>\n",
       "      <th>38</th>\n",
       "      <td>3761.994038</td>\n",
       "      <td>2019</td>\n",
       "    </tr>\n",
       "  </tbody>\n",
       "</table>\n",
       "</div>"
      ],
      "text/plain": [
       "    vehicle_weight  model_year\n",
       "8      2714.219310        2016\n",
       "12     2783.868974        2010\n",
       "14     3582.687368        2007\n",
       "20     2231.808142        2011\n",
       "21     2659.431451        2016\n",
       "34     2844.227534        2014\n",
       "38     3761.994038        2019"
      ]
     },
     "execution_count": 15,
     "metadata": {},
     "output_type": "execute_result"
    }
   ],
   "source": [
    "# Select Asia cars, only columns(vehicle_weight and model_year)\n",
    "Asia_cars_WY = CAR_FUEL_EFF.loc[CAR_FUEL_EFF[\"origin\"] == \"Asia\", [\"vehicle_weight\", \"model_year\"]]\n",
    "\n",
    "# Select first 7 values\n",
    "Asia_cars_WY7 = Asia_cars_WY.head(7)\n",
    "Asia_cars_WY7"
   ]
  },
  {
   "cell_type": "code",
   "execution_count": 16,
   "id": "27e2c8c3-2f86-4ba9-86cd-a2a8ae9cacf6",
   "metadata": {},
   "outputs": [
    {
     "name": "stdout",
     "output_type": "stream",
     "text": [
      "X shape: (7, 2)\n",
      "XTX:\n",
      " [[62248334.33150762 41431216.5073268 ]\n",
      " [41431216.5073268  28373339.        ]]\n",
      "Inverse of XTX:\n",
      " [[ 5.71497081e-07 -8.34509443e-07]\n",
      " [-8.34509443e-07  1.25380877e-06]]\n"
     ]
    }
   ],
   "source": [
    "# Get the underlying NumPy array\n",
    "X = Asia_cars_WY7.values # gets the NumPy array\n",
    "\n",
    "# Compute matrix-matrix multiplication between X.T and X\n",
    "XTX = X.T @ X # computes the product of the transpose and the original matrix\n",
    "\n",
    "# Invert XTX\n",
    "XTX_inv = np.linalg.inv(XTX) # gives the inverse of that product\n",
    "\n",
    "print(\"X shape:\", X.shape)\n",
    "print(\"XTX:\\n\", XTX)\n",
    "print(\"Inverse of XTX:\\n\", XTX_inv)"
   ]
  },
  {
   "cell_type": "code",
   "execution_count": 17,
   "id": "39cdb0bf-1310-4077-b5c9-afde1f4b9c4f",
   "metadata": {},
   "outputs": [
    {
     "name": "stdout",
     "output_type": "stream",
     "text": [
      "w: [0.01386421 0.5049067 ]\n",
      "Sum of elements in w: 0.5187709081074007\n"
     ]
    }
   ],
   "source": [
    "# Create y\n",
    "y = np.array([1100, 1300, 800, 900, 1000, 1100, 1200])\n",
    "\n",
    "# Compute w = (XTX_inv @ X.T) @ y \n",
    "# Multiply the inverse of XTX with the transpose of X, and then multiply the result by y\n",
    "w = XTX_inv @ X.T @ y\n",
    "\n",
    "# Sum of elements in w\n",
    "sum_w = w.sum()\n",
    "\n",
    "\n",
    "print(\"w:\", w)\n",
    "print(\"Sum of elements in w:\", sum_w)"
   ]
  },
  {
   "cell_type": "code",
   "execution_count": null,
   "id": "5e61f6b4-2e5a-40c0-a5e7-0c5e29bb6a00",
   "metadata": {},
   "outputs": [],
   "source": []
  }
 ],
 "metadata": {
  "kernelspec": {
   "display_name": "Python 3 (ipykernel)",
   "language": "python",
   "name": "python3"
  },
  "language_info": {
   "codemirror_mode": {
    "name": "ipython",
    "version": 3
   },
   "file_extension": ".py",
   "mimetype": "text/x-python",
   "name": "python",
   "nbconvert_exporter": "python",
   "pygments_lexer": "ipython3",
   "version": "3.12.3"
  }
 },
 "nbformat": 4,
 "nbformat_minor": 5
}
